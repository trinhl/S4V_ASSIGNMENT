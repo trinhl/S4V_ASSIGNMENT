{
  "nbformat": 4,
  "nbformat_minor": 0,
  "metadata": {
    "colab": {
      "name": "S4V_Data Science_Assignment_LE KHANH TRINH.ipynb",
      "provenance": [],
      "collapsed_sections": [
        "rkP8yQKxw_DI",
        "qy13OKuYxbUB",
        "m7_oI7GSx70o"
      ],
      "authorship_tag": "ABX9TyOdfzginRtKrC++hiVXAC0r",
      "include_colab_link": true
    },
    "kernelspec": {
      "name": "python3",
      "display_name": "Python 3"
    }
  },
  "cells": [
    {
      "cell_type": "markdown",
      "metadata": {
        "id": "view-in-github",
        "colab_type": "text"
      },
      "source": [
        "<a href=\"https://colab.research.google.com/github/trinhl/S4V_ASSIGNMENT/blob/master/S4V_Data_Science_Assignment_LE_KHANH_TRINH.ipynb\" target=\"_parent\"><img src=\"https://colab.research.google.com/assets/colab-badge.svg\" alt=\"Open In Colab\"/></a>"
      ]
    },
    {
      "cell_type": "markdown",
      "metadata": {
        "id": "486r1odhcHQ6",
        "colab_type": "text"
      },
      "source": [
        "# Deliverables:\n",
        "\n",
        "1. Tell us about your dataset and the tool(s) you use to analyse it. Explain why you choose\n",
        "them?\n",
        "2. Show us the process you retrieve data, clean and manipulate data.\n",
        "3. Show us your findings and reasonings lead to those findings.\n",
        "4. Show us models/graphs that support your findings\n",
        "5. What action would you recommend the government/policy makers (or any related\n",
        "stakeholders of your choice) to take based on your findings above?"
      ]
    },
    {
      "cell_type": "markdown",
      "metadata": {
        "id": "XYfoGbyRc2Zj",
        "colab_type": "text"
      },
      "source": [
        "## 1.Tell us about your dataset and the tool(s) you use to analyse it. Explain why you choose them?"
      ]
    },
    {
      "cell_type": "markdown",
      "metadata": {
        "id": "Me7VsaLKd7LL",
        "colab_type": "text"
      },
      "source": [
        "Dataset:\n",
        "\n",
        "\n",
        "*   Tên: Revenue from Federal Sources for Public Elementary-Secondary School Systems: US and States: 2012 - 2018\n",
        "*   Link: https://data.census.gov/cedsci/table?tid=GOVSTIMESERIES.GS00SS02&hidePreview=false\n",
        "*   Miêu tả:\n",
        "  *   Nguồn viện trợ giáo dục của Liên Bang.\n",
        "  *   Viện trợ nhận được từ các nguồn việc trợ được coi là doanh thu.\n",
        "\n",
        "\n",
        "\n"
      ]
    },
    {
      "cell_type": "markdown",
      "metadata": {
        "id": "5xVCe6dFdWbN",
        "colab_type": "text"
      },
      "source": [
        "Sau khi em xem qua các tập dataset trên Explore Census Data, và quyết định lựa chọn tập dataset này vì:\n",
        "\n",
        "\n",
        "*   Có số lượng record không quá ít để có thể có phân tích.\n",
        "*   Đi kèm với các cột có ý nghĩa phân tích vừa đủ.\n"
      ]
    },
    {
      "cell_type": "markdown",
      "metadata": {
        "id": "uQH0vlmKfi9L",
        "colab_type": "text"
      },
      "source": [
        "## 2.Show us the process you retrieve data, clean and manipulate data."
      ]
    },
    {
      "cell_type": "code",
      "metadata": {
        "id": "-vUe_EEwCGU9",
        "colab_type": "code",
        "colab": {}
      },
      "source": [
        "# import các thư viện cần thiết\n",
        "import numpy as np\n",
        "import seaborn as sns\n",
        "import pandas as pd\n",
        "from scipy import stats"
      ],
      "execution_count": 18,
      "outputs": []
    },
    {
      "cell_type": "code",
      "metadata": {
        "id": "3_JAOnv-5z9s",
        "colab_type": "code",
        "colab": {
          "base_uri": "https://localhost:8080/",
          "height": 35
        },
        "outputId": "5a01d774-f004-4927-c929-15baf4adc6f9"
      },
      "source": [
        "from google.colab import drive\n",
        "drive.mount('/gdrive')"
      ],
      "execution_count": 2,
      "outputs": [
        {
          "output_type": "stream",
          "text": [
            "Mounted at /gdrive\n"
          ],
          "name": "stdout"
        }
      ]
    },
    {
      "cell_type": "code",
      "metadata": {
        "id": "6MBViHiV64Qh",
        "colab_type": "code",
        "colab": {}
      },
      "source": [
        "# Đọc tập dataset\n",
        "df = pd.read_csv('/gdrive/My Drive/datasets/GOVSTIMESERIES.GS00SS02_data_with_overlays_2020-09-09T090230.csv')"
      ],
      "execution_count": 4,
      "outputs": []
    },
    {
      "cell_type": "code",
      "metadata": {
        "id": "cxV8rQ-cADFT",
        "colab_type": "code",
        "colab": {
          "base_uri": "https://localhost:8080/",
          "height": 460
        },
        "outputId": "7017b07b-9144-4c52-b149-baaae55cabb3"
      },
      "source": [
        "# Kiểm tra tổng quan dữ liệu\n",
        "df.head()"
      ],
      "execution_count": 5,
      "outputs": [
        {
          "output_type": "execute_result",
          "data": {
            "text/html": [
              "<div>\n",
              "<style scoped>\n",
              "    .dataframe tbody tr th:only-of-type {\n",
              "        vertical-align: middle;\n",
              "    }\n",
              "\n",
              "    .dataframe tbody tr th {\n",
              "        vertical-align: top;\n",
              "    }\n",
              "\n",
              "    .dataframe thead th {\n",
              "        text-align: right;\n",
              "    }\n",
              "</style>\n",
              "<table border=\"1\" class=\"dataframe\">\n",
              "  <thead>\n",
              "    <tr style=\"text-align: right;\">\n",
              "      <th></th>\n",
              "      <th>GEO_ID</th>\n",
              "      <th>NAME</th>\n",
              "      <th>GEO_ID_F</th>\n",
              "      <th>SVY_COMP</th>\n",
              "      <th>SVY_COMP_LABEL</th>\n",
              "      <th>YEAR</th>\n",
              "      <th>AGG_DESC</th>\n",
              "      <th>AGG_DESC_LABEL</th>\n",
              "      <th>GOVTYPE</th>\n",
              "      <th>GOVTYPE_LABEL</th>\n",
              "      <th>AMOUNT</th>\n",
              "      <th>AMOUNT_FORMATTED</th>\n",
              "    </tr>\n",
              "  </thead>\n",
              "  <tbody>\n",
              "    <tr>\n",
              "      <th>0</th>\n",
              "      <td>id</td>\n",
              "      <td>Geographic Area Name</td>\n",
              "      <td>Geo Footnote</td>\n",
              "      <td>Survey Component</td>\n",
              "      <td>Survey Component</td>\n",
              "      <td>Year</td>\n",
              "      <td>Aggregate Description</td>\n",
              "      <td>Meaning of Aggregate Description</td>\n",
              "      <td>Type of Government</td>\n",
              "      <td>Type of Government</td>\n",
              "      <td>Amount</td>\n",
              "      <td>Amount Formatted</td>\n",
              "    </tr>\n",
              "    <tr>\n",
              "      <th>1</th>\n",
              "      <td>0400000US01</td>\n",
              "      <td>Alabama</td>\n",
              "      <td>NaN</td>\n",
              "      <td>06</td>\n",
              "      <td>Annual Survey of School System Finance</td>\n",
              "      <td>2012</td>\n",
              "      <td>FS</td>\n",
              "      <td>Elementary-secondary education school system r...</td>\n",
              "      <td>001</td>\n",
              "      <td>State and Local</td>\n",
              "      <td>789954.0</td>\n",
              "      <td>789954</td>\n",
              "    </tr>\n",
              "    <tr>\n",
              "      <th>2</th>\n",
              "      <td>0400000US01</td>\n",
              "      <td>Alabama</td>\n",
              "      <td>NaN</td>\n",
              "      <td>06</td>\n",
              "      <td>Annual Survey of School System Finance</td>\n",
              "      <td>2013</td>\n",
              "      <td>FS</td>\n",
              "      <td>Elementary-secondary education school system r...</td>\n",
              "      <td>001</td>\n",
              "      <td>State and Local</td>\n",
              "      <td>811739.0</td>\n",
              "      <td>811739</td>\n",
              "    </tr>\n",
              "    <tr>\n",
              "      <th>3</th>\n",
              "      <td>0400000US01</td>\n",
              "      <td>Alabama</td>\n",
              "      <td>NaN</td>\n",
              "      <td>06</td>\n",
              "      <td>Annual Survey of School System Finance</td>\n",
              "      <td>2014</td>\n",
              "      <td>FS</td>\n",
              "      <td>Elementary-secondary education school system r...</td>\n",
              "      <td>001</td>\n",
              "      <td>State and Local</td>\n",
              "      <td>794090.0</td>\n",
              "      <td>794090</td>\n",
              "    </tr>\n",
              "    <tr>\n",
              "      <th>4</th>\n",
              "      <td>0400000US01</td>\n",
              "      <td>Alabama</td>\n",
              "      <td>NaN</td>\n",
              "      <td>06</td>\n",
              "      <td>Annual Survey of School System Finance</td>\n",
              "      <td>2015</td>\n",
              "      <td>FS</td>\n",
              "      <td>Elementary-secondary education school system r...</td>\n",
              "      <td>001</td>\n",
              "      <td>State and Local</td>\n",
              "      <td>795238.0</td>\n",
              "      <td>795238</td>\n",
              "    </tr>\n",
              "  </tbody>\n",
              "</table>\n",
              "</div>"
            ],
            "text/plain": [
              "        GEO_ID                  NAME  ...    AMOUNT  AMOUNT_FORMATTED\n",
              "0           id  Geographic Area Name  ...    Amount  Amount Formatted\n",
              "1  0400000US01               Alabama  ...  789954.0            789954\n",
              "2  0400000US01               Alabama  ...  811739.0            811739\n",
              "3  0400000US01               Alabama  ...  794090.0            794090\n",
              "4  0400000US01               Alabama  ...  795238.0            795238\n",
              "\n",
              "[5 rows x 12 columns]"
            ]
          },
          "metadata": {
            "tags": []
          },
          "execution_count": 5
        }
      ]
    },
    {
      "cell_type": "code",
      "metadata": {
        "id": "CRcWinHB7JCc",
        "colab_type": "code",
        "colab": {}
      },
      "source": [
        "# Sau đó xóa dữ liệu ở hàng đầu tiên, vì đây là thông tin miêu tả cho cột dữ liệu\n",
        "df = df.drop(0)"
      ],
      "execution_count": 30,
      "outputs": []
    },
    {
      "cell_type": "code",
      "metadata": {
        "id": "I4qqkmA-pOmq",
        "colab_type": "code",
        "colab": {
          "base_uri": "https://localhost:8080/",
          "height": 254
        },
        "outputId": "f334535c-1399-4eb3-a602-062bc66505a7"
      },
      "source": [
        "# Kiểm tra trùng lắp dữ liệu ở từng cột dữ liệu.\n",
        "df.apply(lambda x: x.nunique())"
      ],
      "execution_count": 31,
      "outputs": [
        {
          "output_type": "execute_result",
          "data": {
            "text/plain": [
              "GEO_ID                51\n",
              "NAME                  51\n",
              "GEO_ID_F               0\n",
              "SVY_COMP               1\n",
              "SVY_COMP_LABEL         1\n",
              "YEAR                   7\n",
              "AGG_DESC               9\n",
              "AGG_DESC_LABEL         9\n",
              "GOVTYPE                1\n",
              "GOVTYPE_LABEL          1\n",
              "AMOUNT              3100\n",
              "AMOUNT_FORMATTED    3100\n",
              "dtype: int64"
            ]
          },
          "metadata": {
            "tags": []
          },
          "execution_count": 31
        }
      ]
    },
    {
      "cell_type": "markdown",
      "metadata": {
        "id": "emLasLIYiNKv",
        "colab_type": "text"
      },
      "source": [
        "### Tiến hành kiểm tra một vài trường dữ liệu, để biết được số lượng từng loại giá trị đang có."
      ]
    },
    {
      "cell_type": "code",
      "metadata": {
        "id": "QfEgLLy2-ZwP",
        "colab_type": "code",
        "colab": {
          "base_uri": "https://localhost:8080/",
          "height": 163
        },
        "outputId": "1e706a19-ddab-4dd2-c130-f50487da30e3"
      },
      "source": [
        "df['YEAR'].value_counts()"
      ],
      "execution_count": 32,
      "outputs": [
        {
          "output_type": "execute_result",
          "data": {
            "text/plain": [
              "2017    459\n",
              "2012    459\n",
              "2015    459\n",
              "2016    459\n",
              "2013    459\n",
              "2018    459\n",
              "2014    459\n",
              "Name: YEAR, dtype: int64"
            ]
          },
          "metadata": {
            "tags": []
          },
          "execution_count": 32
        }
      ]
    },
    {
      "cell_type": "code",
      "metadata": {
        "id": "jrOhKkYghzwh",
        "colab_type": "code",
        "colab": {
          "base_uri": "https://localhost:8080/",
          "height": 235
        },
        "outputId": "51e266e9-b947-429e-8699-2bb495888a2c"
      },
      "source": [
        "df['AMOUNT'].value_counts()"
      ],
      "execution_count": 33,
      "outputs": [
        {
          "output_type": "execute_result",
          "data": {
            "text/plain": [
              "0.0          63\n",
              "2358.0        3\n",
              "134412.0      2\n",
              "19041.0       2\n",
              "137544.0      2\n",
              "             ..\n",
              "257801.0      1\n",
              "44954.0       1\n",
              "1334427.0     1\n",
              "129079.0      1\n",
              "29998.0       1\n",
              "Name: AMOUNT, Length: 3100, dtype: int64"
            ]
          },
          "metadata": {
            "tags": []
          },
          "execution_count": 33
        }
      ]
    },
    {
      "cell_type": "code",
      "metadata": {
        "id": "PiSfUFgxh5Ao",
        "colab_type": "code",
        "colab": {
          "base_uri": "https://localhost:8080/",
          "height": 235
        },
        "outputId": "8728a007-9f34-4f25-8c81-98d486e323f7"
      },
      "source": [
        "df['AMOUNT_FORMATTED'].value_counts()"
      ],
      "execution_count": 34,
      "outputs": [
        {
          "output_type": "execute_result",
          "data": {
            "text/plain": [
              "0          63\n",
              "2358        3\n",
              "28574       2\n",
              "19041       2\n",
              "41348       2\n",
              "           ..\n",
              "800525      1\n",
              "848254      1\n",
              "1857885     1\n",
              "41482       1\n",
              "147111      1\n",
              "Name: AMOUNT_FORMATTED, Length: 3100, dtype: int64"
            ]
          },
          "metadata": {
            "tags": []
          },
          "execution_count": 34
        }
      ]
    },
    {
      "cell_type": "markdown",
      "metadata": {
        "id": "gUzvnjHZiXyj",
        "colab_type": "text"
      },
      "source": [
        "### Kiểm tra các trị null, và tiến hành xử lý các giá trị null. Cùng với chuyển đổi kiểu dữ liệu cho phù hợp."
      ]
    },
    {
      "cell_type": "code",
      "metadata": {
        "id": "bZ-qxBWTG3cE",
        "colab_type": "code",
        "colab": {
          "base_uri": "https://localhost:8080/",
          "height": 254
        },
        "outputId": "65e2d665-1c67-43da-c337-d793654d3fee"
      },
      "source": [
        "# Kiểm tra các trị null có ở từng cột.\n",
        "df.isnull().sum()"
      ],
      "execution_count": 35,
      "outputs": [
        {
          "output_type": "execute_result",
          "data": {
            "text/plain": [
              "GEO_ID                 0\n",
              "NAME                   0\n",
              "GEO_ID_F            3213\n",
              "SVY_COMP               0\n",
              "SVY_COMP_LABEL         0\n",
              "YEAR                   0\n",
              "AGG_DESC               0\n",
              "AGG_DESC_LABEL         0\n",
              "GOVTYPE                0\n",
              "GOVTYPE_LABEL          0\n",
              "AMOUNT                15\n",
              "AMOUNT_FORMATTED      15\n",
              "dtype: int64"
            ]
          },
          "metadata": {
            "tags": []
          },
          "execution_count": 35
        }
      ]
    },
    {
      "cell_type": "code",
      "metadata": {
        "id": "cn-4PipsERic",
        "colab_type": "code",
        "colab": {}
      },
      "source": [
        "# Tiền hành thay thế các trị string 'N' (null) bằng các giá trị NaN\n",
        "df['AMOUNT'] = df['AMOUNT'].replace('N', np.nan)\n",
        "df['AMOUNT_FORMATTED'] = df['AMOUNT_FORMATTED'].replace('N', np.nan)"
      ],
      "execution_count": 24,
      "outputs": []
    },
    {
      "cell_type": "code",
      "metadata": {
        "id": "3hTDiFG1A-ZV",
        "colab_type": "code",
        "colab": {
          "base_uri": "https://localhost:8080/",
          "height": 240
        },
        "outputId": "50a2816b-ca9f-41ee-dcda-d8113b4f1879"
      },
      "source": [
        "df.describe()"
      ],
      "execution_count": 11,
      "outputs": [
        {
          "output_type": "execute_result",
          "data": {
            "text/html": [
              "<div>\n",
              "<style scoped>\n",
              "    .dataframe tbody tr th:only-of-type {\n",
              "        vertical-align: middle;\n",
              "    }\n",
              "\n",
              "    .dataframe tbody tr th {\n",
              "        vertical-align: top;\n",
              "    }\n",
              "\n",
              "    .dataframe thead th {\n",
              "        text-align: right;\n",
              "    }\n",
              "</style>\n",
              "<table border=\"1\" class=\"dataframe\">\n",
              "  <thead>\n",
              "    <tr style=\"text-align: right;\">\n",
              "      <th></th>\n",
              "      <th>GEO_ID</th>\n",
              "      <th>NAME</th>\n",
              "      <th>GEO_ID_F</th>\n",
              "      <th>SVY_COMP</th>\n",
              "      <th>SVY_COMP_LABEL</th>\n",
              "      <th>YEAR</th>\n",
              "      <th>AGG_DESC</th>\n",
              "      <th>AGG_DESC_LABEL</th>\n",
              "      <th>GOVTYPE</th>\n",
              "      <th>GOVTYPE_LABEL</th>\n",
              "      <th>AMOUNT</th>\n",
              "      <th>AMOUNT_FORMATTED</th>\n",
              "    </tr>\n",
              "  </thead>\n",
              "  <tbody>\n",
              "    <tr>\n",
              "      <th>count</th>\n",
              "      <td>3214</td>\n",
              "      <td>3214</td>\n",
              "      <td>1</td>\n",
              "      <td>3214</td>\n",
              "      <td>3214</td>\n",
              "      <td>3214</td>\n",
              "      <td>3214</td>\n",
              "      <td>3214</td>\n",
              "      <td>3214</td>\n",
              "      <td>3214</td>\n",
              "      <td>3199</td>\n",
              "      <td>3199</td>\n",
              "    </tr>\n",
              "    <tr>\n",
              "      <th>unique</th>\n",
              "      <td>52</td>\n",
              "      <td>52</td>\n",
              "      <td>1</td>\n",
              "      <td>2</td>\n",
              "      <td>2</td>\n",
              "      <td>8</td>\n",
              "      <td>10</td>\n",
              "      <td>10</td>\n",
              "      <td>2</td>\n",
              "      <td>2</td>\n",
              "      <td>3101</td>\n",
              "      <td>3101</td>\n",
              "    </tr>\n",
              "    <tr>\n",
              "      <th>top</th>\n",
              "      <td>0400000US56</td>\n",
              "      <td>Alaska</td>\n",
              "      <td>Geo Footnote</td>\n",
              "      <td>06</td>\n",
              "      <td>Annual Survey of School System Finance</td>\n",
              "      <td>2017</td>\n",
              "      <td>FSDSTOT</td>\n",
              "      <td>Elementary-secondary education school system r...</td>\n",
              "      <td>001</td>\n",
              "      <td>State and Local</td>\n",
              "      <td>0.0</td>\n",
              "      <td>0</td>\n",
              "    </tr>\n",
              "    <tr>\n",
              "      <th>freq</th>\n",
              "      <td>63</td>\n",
              "      <td>63</td>\n",
              "      <td>1</td>\n",
              "      <td>3213</td>\n",
              "      <td>3213</td>\n",
              "      <td>459</td>\n",
              "      <td>357</td>\n",
              "      <td>357</td>\n",
              "      <td>3213</td>\n",
              "      <td>3213</td>\n",
              "      <td>63</td>\n",
              "      <td>63</td>\n",
              "    </tr>\n",
              "  </tbody>\n",
              "</table>\n",
              "</div>"
            ],
            "text/plain": [
              "             GEO_ID    NAME  ... AMOUNT AMOUNT_FORMATTED\n",
              "count          3214    3214  ...   3199             3199\n",
              "unique           52      52  ...   3101             3101\n",
              "top     0400000US56  Alaska  ...    0.0                0\n",
              "freq             63      63  ...     63               63\n",
              "\n",
              "[4 rows x 12 columns]"
            ]
          },
          "metadata": {
            "tags": []
          },
          "execution_count": 11
        }
      ]
    },
    {
      "cell_type": "markdown",
      "metadata": {
        "id": "lu9xv124mHio",
        "colab_type": "text"
      },
      "source": [
        "Nhận thấy rằng dữ liệu hiện vẫn toàn là kiểu object nên chưa thể dùng để phân tích được, nên tiến hành convert sang dạng Numeric"
      ]
    },
    {
      "cell_type": "code",
      "metadata": {
        "id": "lAGlagewDd4Q",
        "colab_type": "code",
        "colab": {}
      },
      "source": [
        "# Convert kiểu dữ liệu của các cột sau\n",
        "df['YEAR'] = df['YEAR'].astype(np.int32)\n",
        "df['AMOUNT'] = df['AMOUNT'].astype(np.float64)\n",
        "df['AMOUNT_FORMATTED'] = df['AMOUNT_FORMATTED'].astype(np.float64)"
      ],
      "execution_count": 41,
      "outputs": []
    },
    {
      "cell_type": "code",
      "metadata": {
        "id": "qOd59a-_mAjm",
        "colab_type": "code",
        "colab": {
          "base_uri": "https://localhost:8080/",
          "height": 288
        },
        "outputId": "f5fd8a6f-d9b1-4268-be3f-7662e0d2c5d1"
      },
      "source": [
        "# Tiến hành kiểm tra lại lần nữa\n",
        "df.describe()"
      ],
      "execution_count": 37,
      "outputs": [
        {
          "output_type": "execute_result",
          "data": {
            "text/html": [
              "<div>\n",
              "<style scoped>\n",
              "    .dataframe tbody tr th:only-of-type {\n",
              "        vertical-align: middle;\n",
              "    }\n",
              "\n",
              "    .dataframe tbody tr th {\n",
              "        vertical-align: top;\n",
              "    }\n",
              "\n",
              "    .dataframe thead th {\n",
              "        text-align: right;\n",
              "    }\n",
              "</style>\n",
              "<table border=\"1\" class=\"dataframe\">\n",
              "  <thead>\n",
              "    <tr style=\"text-align: right;\">\n",
              "      <th></th>\n",
              "      <th>YEAR</th>\n",
              "      <th>AMOUNT</th>\n",
              "      <th>AMOUNT_FORMATTED</th>\n",
              "    </tr>\n",
              "  </thead>\n",
              "  <tbody>\n",
              "    <tr>\n",
              "      <th>count</th>\n",
              "      <td>3213.000000</td>\n",
              "      <td>3.198000e+03</td>\n",
              "      <td>3.198000e+03</td>\n",
              "    </tr>\n",
              "    <tr>\n",
              "      <th>mean</th>\n",
              "      <td>2015.000000</td>\n",
              "      <td>3.544193e+05</td>\n",
              "      <td>3.544193e+05</td>\n",
              "    </tr>\n",
              "    <tr>\n",
              "      <th>std</th>\n",
              "      <td>2.000311</td>\n",
              "      <td>7.746438e+05</td>\n",
              "      <td>7.746438e+05</td>\n",
              "    </tr>\n",
              "    <tr>\n",
              "      <th>min</th>\n",
              "      <td>2012.000000</td>\n",
              "      <td>0.000000e+00</td>\n",
              "      <td>0.000000e+00</td>\n",
              "    </tr>\n",
              "    <tr>\n",
              "      <th>25%</th>\n",
              "      <td>2013.000000</td>\n",
              "      <td>2.834350e+04</td>\n",
              "      <td>2.834350e+04</td>\n",
              "    </tr>\n",
              "    <tr>\n",
              "      <th>50%</th>\n",
              "      <td>2015.000000</td>\n",
              "      <td>1.202510e+05</td>\n",
              "      <td>1.202510e+05</td>\n",
              "    </tr>\n",
              "    <tr>\n",
              "      <th>75%</th>\n",
              "      <td>2017.000000</td>\n",
              "      <td>3.378582e+05</td>\n",
              "      <td>3.378582e+05</td>\n",
              "    </tr>\n",
              "    <tr>\n",
              "      <th>max</th>\n",
              "      <td>2018.000000</td>\n",
              "      <td>8.793325e+06</td>\n",
              "      <td>8.793325e+06</td>\n",
              "    </tr>\n",
              "  </tbody>\n",
              "</table>\n",
              "</div>"
            ],
            "text/plain": [
              "              YEAR        AMOUNT  AMOUNT_FORMATTED\n",
              "count  3213.000000  3.198000e+03      3.198000e+03\n",
              "mean   2015.000000  3.544193e+05      3.544193e+05\n",
              "std       2.000311  7.746438e+05      7.746438e+05\n",
              "min    2012.000000  0.000000e+00      0.000000e+00\n",
              "25%    2013.000000  2.834350e+04      2.834350e+04\n",
              "50%    2015.000000  1.202510e+05      1.202510e+05\n",
              "75%    2017.000000  3.378582e+05      3.378582e+05\n",
              "max    2018.000000  8.793325e+06      8.793325e+06"
            ]
          },
          "metadata": {
            "tags": []
          },
          "execution_count": 37
        }
      ]
    },
    {
      "cell_type": "code",
      "metadata": {
        "id": "KT67z4XRDrjg",
        "colab_type": "code",
        "colab": {
          "base_uri": "https://localhost:8080/",
          "height": 35
        },
        "outputId": "79a7c019-2cc0-4a28-931e-9a4e4dc6e4a7"
      },
      "source": [
        "df['AMOUNT'].dtype"
      ],
      "execution_count": null,
      "outputs": [
        {
          "output_type": "execute_result",
          "data": {
            "text/plain": [
              "dtype('float64')"
            ]
          },
          "metadata": {
            "tags": []
          },
          "execution_count": 29
        }
      ]
    },
    {
      "cell_type": "code",
      "metadata": {
        "id": "A-GULZZe_bhh",
        "colab_type": "code",
        "colab": {
          "base_uri": "https://localhost:8080/",
          "height": 90
        },
        "outputId": "baa0fe46-9973-4907-bec8-ae317919192c"
      },
      "source": [
        "df.columns"
      ],
      "execution_count": null,
      "outputs": [
        {
          "output_type": "execute_result",
          "data": {
            "text/plain": [
              "Index(['GEO_ID', 'NAME', 'GEO_ID_F', 'SVY_COMP', 'SVY_COMP_LABEL', 'YEAR',\n",
              "       'AGG_DESC', 'AGG_DESC_LABEL', 'GOVTYPE', 'GOVTYPE_LABEL', 'AMOUNT',\n",
              "       'AMOUNT_FORMATTED'],\n",
              "      dtype='object')"
            ]
          },
          "metadata": {
            "tags": []
          },
          "execution_count": 79
        }
      ]
    },
    {
      "cell_type": "code",
      "metadata": {
        "id": "So-Xd13AM1Dc",
        "colab_type": "code",
        "colab": {
          "base_uri": "https://localhost:8080/",
          "height": 199
        },
        "outputId": "a8010513-7316-4345-83ff-c8792ba49ce5"
      },
      "source": [
        "df['AGG_DESC'].value_counts()"
      ],
      "execution_count": null,
      "outputs": [
        {
          "output_type": "execute_result",
          "data": {
            "text/plain": [
              "FS          357\n",
              "FSDSCN      357\n",
              "FSDSSE      357\n",
              "FSDFAIA     357\n",
              "FSDSTIT     357\n",
              "FSDFATOT    357\n",
              "FSDSON      357\n",
              "FSDSTOT     357\n",
              "FSDSV       357\n",
              "Name: AGG_DESC, dtype: int64"
            ]
          },
          "metadata": {
            "tags": []
          },
          "execution_count": 50
        }
      ]
    },
    {
      "cell_type": "markdown",
      "metadata": {
        "id": "MQTuDzOCqFC9",
        "colab_type": "text"
      },
      "source": [
        "## 3-4.Show us your findings and reasonings lead to those findings. && Show us models/graphs that support your findings"
      ]
    },
    {
      "cell_type": "markdown",
      "metadata": {
        "id": "akwHetH3qcIe",
        "colab_type": "text"
      },
      "source": [
        "### Phân tích tổng quan tập dữ liệu"
      ]
    },
    {
      "cell_type": "code",
      "metadata": {
        "id": "3u-98q7WPInl",
        "colab_type": "code",
        "colab": {
          "base_uri": "https://localhost:8080/",
          "height": 308
        },
        "outputId": "74186017-2ab7-4826-dd12-5ce786eb9dab"
      },
      "source": [
        "# Sử dụng boxplot để kiểm tra outliner của doanh thu theo từng năm.\n",
        "sns.boxplot(x=\"YEAR\", y=\"AMOUNT_FORMATTED\", data=df)"
      ],
      "execution_count": null,
      "outputs": [
        {
          "output_type": "execute_result",
          "data": {
            "text/plain": [
              "<matplotlib.axes._subplots.AxesSubplot at 0x7f7968f64390>"
            ]
          },
          "metadata": {
            "tags": []
          },
          "execution_count": 24
        },
        {
          "output_type": "display_data",
          "data": {
            "image/png": "[encoded data removed]",
            "text/plain": [
              "<Figure size 432x288 with 1 Axes>"
            ]
          },
          "metadata": {
            "tags": [],
            "needs_background": "light"
          }
        }
      ]
    },
    {
      "cell_type": "markdown",
      "metadata": {
        "id": "6yygu_j2qygU",
        "colab_type": "text"
      },
      "source": [
        "Nhận thấy phân bố dữ liệu khó để tìm được outliner, nên sẽ tiền hành lấy log cột *AMOUNT_FORMATTED*"
      ]
    },
    {
      "cell_type": "code",
      "metadata": {
        "id": "-VXMonNvT0sl",
        "colab_type": "code",
        "colab": {}
      },
      "source": [
        "# Loại ra những giá trị null hoặc bằng 0.0 để tránh ảnh hưởng đến phân tích.\n",
        "df_outliner = df[(df['AMOUNT_FORMATTED'].isnull() == False) & (df['AMOUNT_FORMATTED'] != 0.0)][['AMOUNT_FORMATTED','YEAR', 'AGG_DESC', 'NAME']]\n",
        "df_outliner['LOG_AMOUNT'] = np.log(df_outliner['AMOUNT_FORMATTED'])"
      ],
      "execution_count": 43,
      "outputs": []
    },
    {
      "cell_type": "code",
      "metadata": {
        "id": "DyecxgKKTfor",
        "colab_type": "code",
        "colab": {
          "base_uri": "https://localhost:8080/",
          "height": 297
        },
        "outputId": "8996259c-eb8a-4791-d6c5-2df68993cf38"
      },
      "source": [
        "# Kiểm tra lại boxplot\n",
        "sns.boxplot(x=\"YEAR\", y=\"LOG_AMOUNT\", data=df_outliner)"
      ],
      "execution_count": null,
      "outputs": [
        {
          "output_type": "execute_result",
          "data": {
            "text/plain": [
              "<matplotlib.axes._subplots.AxesSubplot at 0x7f796907e6a0>"
            ]
          },
          "metadata": {
            "tags": []
          },
          "execution_count": 22
        },
        {
          "output_type": "display_data",
          "data": {
            "image/png": "[encoded data removed]",
            "text/plain": [
              "<Figure size 432x288 with 1 Axes>"
            ]
          },
          "metadata": {
            "tags": [],
            "needs_background": "light"
          }
        }
      ]
    },
    {
      "cell_type": "markdown",
      "metadata": {
        "id": "pUrWb0HgtMEW",
        "colab_type": "text"
      },
      "source": [
        "Bây giờ biểu đồ đã dễ nhìn hơn để có thể tìm được outliner. Và có thể có nhận xét nhanh:\n",
        "\n",
        "\n",
        "*   Mỗi năm giá trị *AMOUNT_FORMATTED* không có thay đổi.\n",
        "\n"
      ]
    },
    {
      "cell_type": "code",
      "metadata": {
        "id": "6xuYKBr0_8nq",
        "colab_type": "code",
        "colab": {
          "base_uri": "https://localhost:8080/",
          "height": 298
        },
        "outputId": "6a249c31-b7ba-45a9-a60d-fec665eadae6"
      },
      "source": [
        "# Kiểm tra lượng doanh thu ứng với mỗi loại viện trợ giáo dục.\n",
        "sns.boxplot(x=\"LOG_AMOUNT\", y=\"AGG_DESC\", data=df_outliner)"
      ],
      "execution_count": null,
      "outputs": [
        {
          "output_type": "execute_result",
          "data": {
            "text/plain": [
              "<matplotlib.axes._subplots.AxesSubplot at 0x7f79608ccef0>"
            ]
          },
          "metadata": {
            "tags": []
          },
          "execution_count": 89
        },
        {
          "output_type": "display_data",
          "data": {
            "image/png": "[encoded data removed]",
            "text/plain": [
              "<Figure size 432x288 with 1 Axes>"
            ]
          },
          "metadata": {
            "tags": [],
            "needs_background": "light"
          }
        }
      ]
    },
    {
      "cell_type": "markdown",
      "metadata": {
        "id": "naPa7qIvA31O",
        "colab_type": "text"
      },
      "source": [
        "Đã có sự khác biệt khi kiểm tra doanh thu theo từng loại viện trợ.\n",
        "\n"
      ]
    },
    {
      "cell_type": "markdown",
      "metadata": {
        "id": "Yp9RXA1mDTjH",
        "colab_type": "text"
      },
      "source": [
        "### Xác định outliner"
      ]
    },
    {
      "cell_type": "code",
      "metadata": {
        "id": "5YWhegh1DTRp",
        "colab_type": "code",
        "colab": {}
      },
      "source": [
        "# Xác định các ngưỡng lower bound và upper bound\n",
        "def identify_outliner(value_arr):\n",
        "\n",
        "  q1 = np.percentile(value_arr, 25)\n",
        "  q3 = np.percentile(value_arr, 75)\n",
        "\n",
        "  iqr = stats.iqr(value_arr)\n",
        "\n",
        "  lower_bound = q1 -(1.5 * iqr) \n",
        "  upper_bound = q3 +(1.5 * iqr)\n",
        "\n",
        "  return [lower_bound, upper_bound]"
      ],
      "execution_count": 39,
      "outputs": []
    },
    {
      "cell_type": "code",
      "metadata": {
        "id": "hwkUiegiMLs0",
        "colab_type": "code",
        "colab": {}
      },
      "source": [
        "# Trả về giá trị boolean đối với các trị.\n",
        "def lambda_identify_outliner(value, outliner):\n",
        "\n",
        "  if outliner[0] < value < outliner[1]:\n",
        "    return False\n",
        "\n",
        "  return True"
      ],
      "execution_count": 40,
      "outputs": []
    },
    {
      "cell_type": "markdown",
      "metadata": {
        "id": "SAGTIlnjv17f",
        "colab_type": "text"
      },
      "source": [
        "### Tiến hành kiểm tra Outliner ở các loại viện trợ giáo dục"
      ]
    },
    {
      "cell_type": "markdown",
      "metadata": {
        "id": "PeKubarzxgq_",
        "colab_type": "text"
      },
      "source": [
        "Chỉ kiểm tra các viện trợ có Outliner"
      ]
    },
    {
      "cell_type": "markdown",
      "metadata": {
        "id": "rkP8yQKxw_DI",
        "colab_type": "text"
      },
      "source": [
        "#### Viện trợ FS"
      ]
    },
    {
      "cell_type": "code",
      "metadata": {
        "id": "Cu76q_REKtZv",
        "colab_type": "code",
        "colab": {
          "base_uri": "https://localhost:8080/",
          "height": 367
        },
        "outputId": "57389477-92b8-48be-96db-c537c8fd7e82"
      },
      "source": [
        "df_FS = df_outliner[df_outliner['AGG_DESC'] == 'FS']\n",
        "outliner_FS = identify_outliner(df_FS['LOG_AMOUNT'])\n",
        "df_FS['is_outliner'] = df_FS['LOG_AMOUNT'].apply(lambda x: lambda_identify_outliner(x, outliner_FS))\n",
        "df_FS[df_FS['is_outliner'] == True].head(15)"
      ],
      "execution_count": null,
      "outputs": [
        {
          "output_type": "stream",
          "text": [
            "/usr/local/lib/python3.6/dist-packages/ipykernel_launcher.py:12: SettingWithCopyWarning: \n",
            "A value is trying to be set on a copy of a slice from a DataFrame.\n",
            "Try using .loc[row_indexer,col_indexer] = value instead\n",
            "\n",
            "See the caveats in the documentation: https://pandas.pydata.org/pandas-docs/stable/user_guide/indexing.html#returning-a-view-versus-a-copy\n",
            "  if sys.path[0] == '':\n"
          ],
          "name": "stderr"
        },
        {
          "output_type": "execute_result",
          "data": {
            "text/html": [
              "<div>\n",
              "<style scoped>\n",
              "    .dataframe tbody tr th:only-of-type {\n",
              "        vertical-align: middle;\n",
              "    }\n",
              "\n",
              "    .dataframe tbody tr th {\n",
              "        vertical-align: top;\n",
              "    }\n",
              "\n",
              "    .dataframe thead th {\n",
              "        text-align: right;\n",
              "    }\n",
              "</style>\n",
              "<table border=\"1\" class=\"dataframe\">\n",
              "  <thead>\n",
              "    <tr style=\"text-align: right;\">\n",
              "      <th></th>\n",
              "      <th>AMOUNT_FORMATTED</th>\n",
              "      <th>YEAR</th>\n",
              "      <th>AGG_DESC</th>\n",
              "      <th>NAME</th>\n",
              "      <th>LOG_AMOUNT</th>\n",
              "      <th>is_outliner</th>\n",
              "    </tr>\n",
              "  </thead>\n",
              "  <tbody>\n",
              "    <tr>\n",
              "      <th>253</th>\n",
              "      <td>8793325.0</td>\n",
              "      <td>2012</td>\n",
              "      <td>FS</td>\n",
              "      <td>California</td>\n",
              "      <td>15.989503</td>\n",
              "      <td>True</td>\n",
              "    </tr>\n",
              "    <tr>\n",
              "      <th>254</th>\n",
              "      <td>7836263.0</td>\n",
              "      <td>2013</td>\n",
              "      <td>FS</td>\n",
              "      <td>California</td>\n",
              "      <td>15.874273</td>\n",
              "      <td>True</td>\n",
              "    </tr>\n",
              "    <tr>\n",
              "      <th>255</th>\n",
              "      <td>7415061.0</td>\n",
              "      <td>2014</td>\n",
              "      <td>FS</td>\n",
              "      <td>California</td>\n",
              "      <td>15.819024</td>\n",
              "      <td>True</td>\n",
              "    </tr>\n",
              "    <tr>\n",
              "      <th>256</th>\n",
              "      <td>7556365.0</td>\n",
              "      <td>2015</td>\n",
              "      <td>FS</td>\n",
              "      <td>California</td>\n",
              "      <td>15.837901</td>\n",
              "      <td>True</td>\n",
              "    </tr>\n",
              "    <tr>\n",
              "      <th>257</th>\n",
              "      <td>7709079.0</td>\n",
              "      <td>2016</td>\n",
              "      <td>FS</td>\n",
              "      <td>California</td>\n",
              "      <td>15.857909</td>\n",
              "      <td>True</td>\n",
              "    </tr>\n",
              "    <tr>\n",
              "      <th>258</th>\n",
              "      <td>7889546.0</td>\n",
              "      <td>2017</td>\n",
              "      <td>FS</td>\n",
              "      <td>California</td>\n",
              "      <td>15.881049</td>\n",
              "      <td>True</td>\n",
              "    </tr>\n",
              "    <tr>\n",
              "      <th>259</th>\n",
              "      <td>7986209.0</td>\n",
              "      <td>2018</td>\n",
              "      <td>FS</td>\n",
              "      <td>California</td>\n",
              "      <td>15.893227</td>\n",
              "      <td>True</td>\n",
              "    </tr>\n",
              "  </tbody>\n",
              "</table>\n",
              "</div>"
            ],
            "text/plain": [
              "     AMOUNT_FORMATTED  YEAR AGG_DESC        NAME  LOG_AMOUNT  is_outliner\n",
              "253         8793325.0  2012       FS  California   15.989503         True\n",
              "254         7836263.0  2013       FS  California   15.874273         True\n",
              "255         7415061.0  2014       FS  California   15.819024         True\n",
              "256         7556365.0  2015       FS  California   15.837901         True\n",
              "257         7709079.0  2016       FS  California   15.857909         True\n",
              "258         7889546.0  2017       FS  California   15.881049         True\n",
              "259         7986209.0  2018       FS  California   15.893227         True"
            ]
          },
          "metadata": {
            "tags": []
          },
          "execution_count": 88
        }
      ]
    },
    {
      "cell_type": "markdown",
      "metadata": {
        "id": "xhncdWmcY9Yb",
        "colab_type": "text"
      },
      "source": [
        "Đối với viện trợ FS thì thấy rằng Bang California nhận được viện trợ cao hơn so với mặt bằng chung của các bang khác rất nhiều."
      ]
    },
    {
      "cell_type": "markdown",
      "metadata": {
        "colab_type": "text",
        "id": "qy13OKuYxbUB"
      },
      "source": [
        "#### Viện trợ FSDSCN"
      ]
    },
    {
      "cell_type": "code",
      "metadata": {
        "id": "CBoM3ynkRT0l",
        "colab_type": "code",
        "colab": {
          "base_uri": "https://localhost:8080/",
          "height": 367
        },
        "outputId": "e6028aba-9e54-4c9a-9c67-60df02b9ca72"
      },
      "source": [
        "df_FSDSCN = df_outliner[df_outliner['AGG_DESC'] == 'FSDSCN']\n",
        "outliner_FSDSCN = identify_outliner(df_FSDSCN['LOG_AMOUNT'])\n",
        "df_FSDSCN['is_outliner'] = df_FSDSCN['LOG_AMOUNT'].apply(lambda x: lambda_identify_outliner(x, outliner_FSDSCN))\n",
        "df_FSDSCN[df_FSDSCN['is_outliner'] == True].head(15)"
      ],
      "execution_count": null,
      "outputs": [
        {
          "output_type": "stream",
          "text": [
            "/usr/local/lib/python3.6/dist-packages/ipykernel_launcher.py:3: SettingWithCopyWarning: \n",
            "A value is trying to be set on a copy of a slice from a DataFrame.\n",
            "Try using .loc[row_indexer,col_indexer] = value instead\n",
            "\n",
            "See the caveats in the documentation: https://pandas.pydata.org/pandas-docs/stable/user_guide/indexing.html#returning-a-view-versus-a-copy\n",
            "  This is separate from the ipykernel package so we can avoid doing imports until\n"
          ],
          "name": "stderr"
        },
        {
          "output_type": "execute_result",
          "data": {
            "text/html": [
              "<div>\n",
              "<style scoped>\n",
              "    .dataframe tbody tr th:only-of-type {\n",
              "        vertical-align: middle;\n",
              "    }\n",
              "\n",
              "    .dataframe tbody tr th {\n",
              "        vertical-align: top;\n",
              "    }\n",
              "\n",
              "    .dataframe thead th {\n",
              "        text-align: right;\n",
              "    }\n",
              "</style>\n",
              "<table border=\"1\" class=\"dataframe\">\n",
              "  <thead>\n",
              "    <tr style=\"text-align: right;\">\n",
              "      <th></th>\n",
              "      <th>AMOUNT_FORMATTED</th>\n",
              "      <th>YEAR</th>\n",
              "      <th>AGG_DESC</th>\n",
              "      <th>NAME</th>\n",
              "      <th>LOG_AMOUNT</th>\n",
              "      <th>is_outliner</th>\n",
              "    </tr>\n",
              "  </thead>\n",
              "  <tbody>\n",
              "    <tr>\n",
              "      <th>1975</th>\n",
              "      <td>1777.0</td>\n",
              "      <td>2012</td>\n",
              "      <td>FSDSCN</td>\n",
              "      <td>New Mexico</td>\n",
              "      <td>7.482682</td>\n",
              "      <td>True</td>\n",
              "    </tr>\n",
              "    <tr>\n",
              "      <th>1976</th>\n",
              "      <td>1812.0</td>\n",
              "      <td>2013</td>\n",
              "      <td>FSDSCN</td>\n",
              "      <td>New Mexico</td>\n",
              "      <td>7.502186</td>\n",
              "      <td>True</td>\n",
              "    </tr>\n",
              "    <tr>\n",
              "      <th>1977</th>\n",
              "      <td>1583.0</td>\n",
              "      <td>2014</td>\n",
              "      <td>FSDSCN</td>\n",
              "      <td>New Mexico</td>\n",
              "      <td>7.367077</td>\n",
              "      <td>True</td>\n",
              "    </tr>\n",
              "    <tr>\n",
              "      <th>1978</th>\n",
              "      <td>4551.0</td>\n",
              "      <td>2015</td>\n",
              "      <td>FSDSCN</td>\n",
              "      <td>New Mexico</td>\n",
              "      <td>8.423102</td>\n",
              "      <td>True</td>\n",
              "    </tr>\n",
              "    <tr>\n",
              "      <th>1979</th>\n",
              "      <td>1951.0</td>\n",
              "      <td>2016</td>\n",
              "      <td>FSDSCN</td>\n",
              "      <td>New Mexico</td>\n",
              "      <td>7.576097</td>\n",
              "      <td>True</td>\n",
              "    </tr>\n",
              "    <tr>\n",
              "      <th>1980</th>\n",
              "      <td>2228.0</td>\n",
              "      <td>2017</td>\n",
              "      <td>FSDSCN</td>\n",
              "      <td>New Mexico</td>\n",
              "      <td>7.708860</td>\n",
              "      <td>True</td>\n",
              "    </tr>\n",
              "    <tr>\n",
              "      <th>1981</th>\n",
              "      <td>1303.0</td>\n",
              "      <td>2018</td>\n",
              "      <td>FSDSCN</td>\n",
              "      <td>New Mexico</td>\n",
              "      <td>7.172425</td>\n",
              "      <td>True</td>\n",
              "    </tr>\n",
              "  </tbody>\n",
              "</table>\n",
              "</div>"
            ],
            "text/plain": [
              "      AMOUNT_FORMATTED  YEAR AGG_DESC        NAME  LOG_AMOUNT  is_outliner\n",
              "1975            1777.0  2012   FSDSCN  New Mexico    7.482682         True\n",
              "1976            1812.0  2013   FSDSCN  New Mexico    7.502186         True\n",
              "1977            1583.0  2014   FSDSCN  New Mexico    7.367077         True\n",
              "1978            4551.0  2015   FSDSCN  New Mexico    8.423102         True\n",
              "1979            1951.0  2016   FSDSCN  New Mexico    7.576097         True\n",
              "1980            2228.0  2017   FSDSCN  New Mexico    7.708860         True\n",
              "1981            1303.0  2018   FSDSCN  New Mexico    7.172425         True"
            ]
          },
          "metadata": {
            "tags": []
          },
          "execution_count": 90
        }
      ]
    },
    {
      "cell_type": "markdown",
      "metadata": {
        "id": "kSWJDEmFY_aK",
        "colab_type": "text"
      },
      "source": [
        "Bang New Mexico lại có mức doanh thu từ viện trợ FSDSCN thấp hơn mức trung bình liên tục từ 2012-2018."
      ]
    },
    {
      "cell_type": "markdown",
      "metadata": {
        "colab_type": "text",
        "id": "m7_oI7GSx70o"
      },
      "source": [
        "#### Viện trợ FSDFAIA"
      ]
    },
    {
      "cell_type": "code",
      "metadata": {
        "id": "flXPH9OLRum0",
        "colab_type": "code",
        "colab": {
          "base_uri": "https://localhost:8080/",
          "height": 247
        },
        "outputId": "c0e0bc94-16e4-4577-dbf4-b4b3f020c9f1"
      },
      "source": [
        "df_FSDFAIA = df_outliner[df_outliner['AGG_DESC'] == 'FSDFAIA']\n",
        "outliner_FSDFAIA = identify_outliner(df_FSDFAIA['LOG_AMOUNT'])\n",
        "df_FSDFAIA['is_outliner'] = df_FSDFAIA['LOG_AMOUNT'].apply(lambda x: lambda_identify_outliner(x, outliner_FSDFAIA))\n",
        "df_FSDFAIA[df_FSDFAIA['is_outliner'] == True].head(15)"
      ],
      "execution_count": null,
      "outputs": [
        {
          "output_type": "stream",
          "text": [
            "/usr/local/lib/python3.6/dist-packages/ipykernel_launcher.py:3: SettingWithCopyWarning: \n",
            "A value is trying to be set on a copy of a slice from a DataFrame.\n",
            "Try using .loc[row_indexer,col_indexer] = value instead\n",
            "\n",
            "See the caveats in the documentation: https://pandas.pydata.org/pandas-docs/stable/user_guide/indexing.html#returning-a-view-versus-a-copy\n",
            "  This is separate from the ipykernel package so we can avoid doing imports until\n"
          ],
          "name": "stderr"
        },
        {
          "output_type": "execute_result",
          "data": {
            "text/html": [
              "<div>\n",
              "<style scoped>\n",
              "    .dataframe tbody tr th:only-of-type {\n",
              "        vertical-align: middle;\n",
              "    }\n",
              "\n",
              "    .dataframe tbody tr th {\n",
              "        vertical-align: top;\n",
              "    }\n",
              "\n",
              "    .dataframe thead th {\n",
              "        text-align: right;\n",
              "    }\n",
              "</style>\n",
              "<table border=\"1\" class=\"dataframe\">\n",
              "  <thead>\n",
              "    <tr style=\"text-align: right;\">\n",
              "      <th></th>\n",
              "      <th>AMOUNT_FORMATTED</th>\n",
              "      <th>YEAR</th>\n",
              "      <th>AGG_DESC</th>\n",
              "      <th>NAME</th>\n",
              "      <th>LOG_AMOUNT</th>\n",
              "      <th>is_outliner</th>\n",
              "    </tr>\n",
              "  </thead>\n",
              "  <tbody>\n",
              "    <tr>\n",
              "      <th>2213</th>\n",
              "      <td>76.0</td>\n",
              "      <td>2012</td>\n",
              "      <td>FSDFAIA</td>\n",
              "      <td>Ohio</td>\n",
              "      <td>4.330733</td>\n",
              "      <td>True</td>\n",
              "    </tr>\n",
              "    <tr>\n",
              "      <th>2214</th>\n",
              "      <td>76.0</td>\n",
              "      <td>2013</td>\n",
              "      <td>FSDFAIA</td>\n",
              "      <td>Ohio</td>\n",
              "      <td>4.330733</td>\n",
              "      <td>True</td>\n",
              "    </tr>\n",
              "    <tr>\n",
              "      <th>2218</th>\n",
              "      <td>74.0</td>\n",
              "      <td>2017</td>\n",
              "      <td>FSDFAIA</td>\n",
              "      <td>Ohio</td>\n",
              "      <td>4.304065</td>\n",
              "      <td>True</td>\n",
              "    </tr>\n",
              "  </tbody>\n",
              "</table>\n",
              "</div>"
            ],
            "text/plain": [
              "      AMOUNT_FORMATTED  YEAR AGG_DESC  NAME  LOG_AMOUNT  is_outliner\n",
              "2213              76.0  2012  FSDFAIA  Ohio    4.330733         True\n",
              "2214              76.0  2013  FSDFAIA  Ohio    4.330733         True\n",
              "2218              74.0  2017  FSDFAIA  Ohio    4.304065         True"
            ]
          },
          "metadata": {
            "tags": []
          },
          "execution_count": 91
        }
      ]
    },
    {
      "cell_type": "markdown",
      "metadata": {
        "id": "8UFGlmswyS7z",
        "colab_type": "text"
      },
      "source": [
        "Bang Ohio nhận được viện trợ không đồng đều giữa các năm."
      ]
    },
    {
      "cell_type": "markdown",
      "metadata": {
        "colab_type": "text",
        "id": "i1KLURtTyZiY"
      },
      "source": [
        "#### Viện trợ FSDFATOT"
      ]
    },
    {
      "cell_type": "code",
      "metadata": {
        "id": "U9VMaLFxUM2O",
        "colab_type": "code",
        "colab": {
          "base_uri": "https://localhost:8080/",
          "height": 217
        },
        "outputId": "4669443f-dfcc-47ae-d149-4914e2135669"
      },
      "source": [
        "df_FSDFATOT = df_outliner[df_outliner['AGG_DESC'] == 'FSDFATOT']\n",
        "outliner_FSDFATOT = identify_outliner(df_FSDFATOT['LOG_AMOUNT'])\n",
        "df_FSDFATOT['is_outliner'] = df_FSDFATOT['LOG_AMOUNT'].apply(lambda x: lambda_identify_outliner(x, outliner_FSDFATOT))\n",
        "df_FSDFATOT[df_FSDFATOT['is_outliner'] == True].head(15)"
      ],
      "execution_count": null,
      "outputs": [
        {
          "output_type": "stream",
          "text": [
            "/usr/local/lib/python3.6/dist-packages/ipykernel_launcher.py:3: SettingWithCopyWarning: \n",
            "A value is trying to be set on a copy of a slice from a DataFrame.\n",
            "Try using .loc[row_indexer,col_indexer] = value instead\n",
            "\n",
            "See the caveats in the documentation: https://pandas.pydata.org/pandas-docs/stable/user_guide/indexing.html#returning-a-view-versus-a-copy\n",
            "  This is separate from the ipykernel package so we can avoid doing imports until\n"
          ],
          "name": "stderr"
        },
        {
          "output_type": "execute_result",
          "data": {
            "text/html": [
              "<div>\n",
              "<style scoped>\n",
              "    .dataframe tbody tr th:only-of-type {\n",
              "        vertical-align: middle;\n",
              "    }\n",
              "\n",
              "    .dataframe tbody tr th {\n",
              "        vertical-align: top;\n",
              "    }\n",
              "\n",
              "    .dataframe thead th {\n",
              "        text-align: right;\n",
              "    }\n",
              "</style>\n",
              "<table border=\"1\" class=\"dataframe\">\n",
              "  <thead>\n",
              "    <tr style=\"text-align: right;\">\n",
              "      <th></th>\n",
              "      <th>AMOUNT_FORMATTED</th>\n",
              "      <th>YEAR</th>\n",
              "      <th>AGG_DESC</th>\n",
              "      <th>NAME</th>\n",
              "      <th>LOG_AMOUNT</th>\n",
              "      <th>is_outliner</th>\n",
              "    </tr>\n",
              "  </thead>\n",
              "  <tbody>\n",
              "    <tr>\n",
              "      <th>2538</th>\n",
              "      <td>1798.0</td>\n",
              "      <td>2015</td>\n",
              "      <td>FSDFATOT</td>\n",
              "      <td>South Carolina</td>\n",
              "      <td>7.494430</td>\n",
              "      <td>True</td>\n",
              "    </tr>\n",
              "    <tr>\n",
              "      <th>2541</th>\n",
              "      <td>1808.0</td>\n",
              "      <td>2018</td>\n",
              "      <td>FSDFATOT</td>\n",
              "      <td>South Carolina</td>\n",
              "      <td>7.499977</td>\n",
              "      <td>True</td>\n",
              "    </tr>\n",
              "  </tbody>\n",
              "</table>\n",
              "</div>"
            ],
            "text/plain": [
              "      AMOUNT_FORMATTED  YEAR  AGG_DESC            NAME  LOG_AMOUNT  is_outliner\n",
              "2538            1798.0  2015  FSDFATOT  South Carolina    7.494430         True\n",
              "2541            1808.0  2018  FSDFATOT  South Carolina    7.499977         True"
            ]
          },
          "metadata": {
            "tags": []
          },
          "execution_count": 93
        }
      ]
    },
    {
      "cell_type": "markdown",
      "metadata": {
        "id": "didQbS6UzUMS",
        "colab_type": "text"
      },
      "source": [
        "Bang South Carolina chỉ có 2 năm trong khoảng 2012-2018 lại nhận được viện trợ thấp."
      ]
    },
    {
      "cell_type": "markdown",
      "metadata": {
        "colab_type": "text",
        "id": "26PCRDNizicD"
      },
      "source": [
        "#### Viện trợ FSDSON"
      ]
    },
    {
      "cell_type": "code",
      "metadata": {
        "id": "9pAzMPiKUu2V",
        "colab_type": "code",
        "colab": {
          "base_uri": "https://localhost:8080/",
          "height": 507
        },
        "outputId": "2a2564d6-b9bf-4034-bc62-599a48e46ff1"
      },
      "source": [
        "df_FSDSON = df_outliner[df_outliner['AGG_DESC'] == 'FSDSON']\n",
        "outliner_FSDSON = identify_outliner(df_FSDSON['LOG_AMOUNT'])\n",
        "df_FSDSON['is_outliner'] = df_FSDSON['LOG_AMOUNT'].apply(lambda x: lambda_identify_outliner(x, outliner_FSDSON))\n",
        "df_FSDSON[df_FSDSON['is_outliner'] == True].head(30)"
      ],
      "execution_count": 44,
      "outputs": [
        {
          "output_type": "stream",
          "text": [
            "/usr/local/lib/python3.6/dist-packages/ipykernel_launcher.py:3: SettingWithCopyWarning: \n",
            "A value is trying to be set on a copy of a slice from a DataFrame.\n",
            "Try using .loc[row_indexer,col_indexer] = value instead\n",
            "\n",
            "See the caveats in the documentation: https://pandas.pydata.org/pandas-docs/stable/user_guide/indexing.html#returning-a-view-versus-a-copy\n",
            "  This is separate from the ipykernel package so we can avoid doing imports until\n"
          ],
          "name": "stderr"
        },
        {
          "output_type": "execute_result",
          "data": {
            "text/html": [
              "<div>\n",
              "<style scoped>\n",
              "    .dataframe tbody tr th:only-of-type {\n",
              "        vertical-align: middle;\n",
              "    }\n",
              "\n",
              "    .dataframe tbody tr th {\n",
              "        vertical-align: top;\n",
              "    }\n",
              "\n",
              "    .dataframe thead th {\n",
              "        text-align: right;\n",
              "    }\n",
              "</style>\n",
              "<table border=\"1\" class=\"dataframe\">\n",
              "  <thead>\n",
              "    <tr style=\"text-align: right;\">\n",
              "      <th></th>\n",
              "      <th>AMOUNT_FORMATTED</th>\n",
              "      <th>YEAR</th>\n",
              "      <th>AGG_DESC</th>\n",
              "      <th>NAME</th>\n",
              "      <th>LOG_AMOUNT</th>\n",
              "      <th>is_outliner</th>\n",
              "    </tr>\n",
              "  </thead>\n",
              "  <tbody>\n",
              "    <tr>\n",
              "      <th>281</th>\n",
              "      <td>2392247.0</td>\n",
              "      <td>2012</td>\n",
              "      <td>FSDSON</td>\n",
              "      <td>California</td>\n",
              "      <td>14.687744</td>\n",
              "      <td>True</td>\n",
              "    </tr>\n",
              "    <tr>\n",
              "      <th>282</th>\n",
              "      <td>1532671.0</td>\n",
              "      <td>2013</td>\n",
              "      <td>FSDSON</td>\n",
              "      <td>California</td>\n",
              "      <td>14.242523</td>\n",
              "      <td>True</td>\n",
              "    </tr>\n",
              "    <tr>\n",
              "      <th>283</th>\n",
              "      <td>1354306.0</td>\n",
              "      <td>2014</td>\n",
              "      <td>FSDSON</td>\n",
              "      <td>California</td>\n",
              "      <td>14.118800</td>\n",
              "      <td>True</td>\n",
              "    </tr>\n",
              "    <tr>\n",
              "      <th>284</th>\n",
              "      <td>1343922.0</td>\n",
              "      <td>2015</td>\n",
              "      <td>FSDSON</td>\n",
              "      <td>California</td>\n",
              "      <td>14.111103</td>\n",
              "      <td>True</td>\n",
              "    </tr>\n",
              "    <tr>\n",
              "      <th>285</th>\n",
              "      <td>1379902.0</td>\n",
              "      <td>2016</td>\n",
              "      <td>FSDSON</td>\n",
              "      <td>California</td>\n",
              "      <td>14.137523</td>\n",
              "      <td>True</td>\n",
              "    </tr>\n",
              "    <tr>\n",
              "      <th>286</th>\n",
              "      <td>1334427.0</td>\n",
              "      <td>2017</td>\n",
              "      <td>FSDSON</td>\n",
              "      <td>California</td>\n",
              "      <td>14.104013</td>\n",
              "      <td>True</td>\n",
              "    </tr>\n",
              "    <tr>\n",
              "      <th>287</th>\n",
              "      <td>1388580.0</td>\n",
              "      <td>2018</td>\n",
              "      <td>FSDSON</td>\n",
              "      <td>California</td>\n",
              "      <td>14.143792</td>\n",
              "      <td>True</td>\n",
              "    </tr>\n",
              "    <tr>\n",
              "      <th>2738</th>\n",
              "      <td>1831535.0</td>\n",
              "      <td>2012</td>\n",
              "      <td>FSDSON</td>\n",
              "      <td>Texas</td>\n",
              "      <td>14.420665</td>\n",
              "      <td>True</td>\n",
              "    </tr>\n",
              "    <tr>\n",
              "      <th>2742</th>\n",
              "      <td>1309577.0</td>\n",
              "      <td>2016</td>\n",
              "      <td>FSDSON</td>\n",
              "      <td>Texas</td>\n",
              "      <td>14.085215</td>\n",
              "      <td>True</td>\n",
              "    </tr>\n",
              "    <tr>\n",
              "      <th>2743</th>\n",
              "      <td>1303745.0</td>\n",
              "      <td>2017</td>\n",
              "      <td>FSDSON</td>\n",
              "      <td>Texas</td>\n",
              "      <td>14.080751</td>\n",
              "      <td>True</td>\n",
              "    </tr>\n",
              "    <tr>\n",
              "      <th>2744</th>\n",
              "      <td>1554216.0</td>\n",
              "      <td>2018</td>\n",
              "      <td>FSDSON</td>\n",
              "      <td>Texas</td>\n",
              "      <td>14.256482</td>\n",
              "      <td>True</td>\n",
              "    </tr>\n",
              "  </tbody>\n",
              "</table>\n",
              "</div>"
            ],
            "text/plain": [
              "      AMOUNT_FORMATTED  YEAR AGG_DESC        NAME  LOG_AMOUNT  is_outliner\n",
              "281          2392247.0  2012   FSDSON  California   14.687744         True\n",
              "282          1532671.0  2013   FSDSON  California   14.242523         True\n",
              "283          1354306.0  2014   FSDSON  California   14.118800         True\n",
              "284          1343922.0  2015   FSDSON  California   14.111103         True\n",
              "285          1379902.0  2016   FSDSON  California   14.137523         True\n",
              "286          1334427.0  2017   FSDSON  California   14.104013         True\n",
              "287          1388580.0  2018   FSDSON  California   14.143792         True\n",
              "2738         1831535.0  2012   FSDSON       Texas   14.420665         True\n",
              "2742         1309577.0  2016   FSDSON       Texas   14.085215         True\n",
              "2743         1303745.0  2017   FSDSON       Texas   14.080751         True\n",
              "2744         1554216.0  2018   FSDSON       Texas   14.256482         True"
            ]
          },
          "metadata": {
            "tags": []
          },
          "execution_count": 44
        }
      ]
    },
    {
      "cell_type": "markdown",
      "metadata": {
        "id": "-hoFp1wGY3it",
        "colab_type": "text"
      },
      "source": [
        "*   Bang California nhận được cao hơn so với mặt bằng chung của các bang khác rất nhiều liên tục từ năm 2012-2018.\n",
        "*   Bên cạnh đó bang Texas cũng sự cao khác biệt so với các bang khác liên tục 3 năm từ 2016-2018."
      ]
    },
    {
      "cell_type": "markdown",
      "metadata": {
        "colab_type": "text",
        "id": "cqPMZQR1znXZ"
      },
      "source": [
        "#### Viện trợ FSDSV"
      ]
    },
    {
      "cell_type": "code",
      "metadata": {
        "id": "abyPDwuIVnLT",
        "colab_type": "code",
        "colab": {
          "base_uri": "https://localhost:8080/",
          "height": 247
        },
        "outputId": "b5833132-9589-4620-cac5-896fea6d44de"
      },
      "source": [
        "df_FSDSV = df_outliner[df_outliner['AGG_DESC'] == 'FSDSV']\n",
        "outliner_FSDSV = identify_outliner(df_FSDSV['LOG_AMOUNT'])\n",
        "df_FSDSV['is_outliner'] = df_FSDSV['LOG_AMOUNT'].apply(lambda x: lambda_identify_outliner(x, outliner_FSDSV))\n",
        "df_FSDSV[df_FSDSV['is_outliner'] == True].head(15)"
      ],
      "execution_count": null,
      "outputs": [
        {
          "output_type": "stream",
          "text": [
            "/usr/local/lib/python3.6/dist-packages/ipykernel_launcher.py:3: SettingWithCopyWarning: \n",
            "A value is trying to be set on a copy of a slice from a DataFrame.\n",
            "Try using .loc[row_indexer,col_indexer] = value instead\n",
            "\n",
            "See the caveats in the documentation: https://pandas.pydata.org/pandas-docs/stable/user_guide/indexing.html#returning-a-view-versus-a-copy\n",
            "  This is separate from the ipykernel package so we can avoid doing imports until\n"
          ],
          "name": "stderr"
        },
        {
          "output_type": "execute_result",
          "data": {
            "text/html": [
              "<div>\n",
              "<style scoped>\n",
              "    .dataframe tbody tr th:only-of-type {\n",
              "        vertical-align: middle;\n",
              "    }\n",
              "\n",
              "    .dataframe tbody tr th {\n",
              "        vertical-align: top;\n",
              "    }\n",
              "\n",
              "    .dataframe thead th {\n",
              "        text-align: right;\n",
              "    }\n",
              "</style>\n",
              "<table border=\"1\" class=\"dataframe\">\n",
              "  <thead>\n",
              "    <tr style=\"text-align: right;\">\n",
              "      <th></th>\n",
              "      <th>AMOUNT_FORMATTED</th>\n",
              "      <th>YEAR</th>\n",
              "      <th>AGG_DESC</th>\n",
              "      <th>NAME</th>\n",
              "      <th>LOG_AMOUNT</th>\n",
              "      <th>is_outliner</th>\n",
              "    </tr>\n",
              "  </thead>\n",
              "  <tbody>\n",
              "    <tr>\n",
              "      <th>2016</th>\n",
              "      <td>5.0</td>\n",
              "      <td>2018</td>\n",
              "      <td>FSDSV</td>\n",
              "      <td>New Mexico</td>\n",
              "      <td>1.609438</td>\n",
              "      <td>True</td>\n",
              "    </tr>\n",
              "    <tr>\n",
              "      <th>2203</th>\n",
              "      <td>73.0</td>\n",
              "      <td>2016</td>\n",
              "      <td>FSDSV</td>\n",
              "      <td>North Dakota</td>\n",
              "      <td>4.290459</td>\n",
              "      <td>True</td>\n",
              "    </tr>\n",
              "    <tr>\n",
              "      <th>2204</th>\n",
              "      <td>58.0</td>\n",
              "      <td>2017</td>\n",
              "      <td>FSDSV</td>\n",
              "      <td>North Dakota</td>\n",
              "      <td>4.060443</td>\n",
              "      <td>True</td>\n",
              "    </tr>\n",
              "  </tbody>\n",
              "</table>\n",
              "</div>"
            ],
            "text/plain": [
              "      AMOUNT_FORMATTED  YEAR AGG_DESC          NAME  LOG_AMOUNT  is_outliner\n",
              "2016               5.0  2018    FSDSV    New Mexico    1.609438         True\n",
              "2203              73.0  2016    FSDSV  North Dakota    4.290459         True\n",
              "2204              58.0  2017    FSDSV  North Dakota    4.060443         True"
            ]
          },
          "metadata": {
            "tags": []
          },
          "execution_count": 95
        }
      ]
    },
    {
      "cell_type": "markdown",
      "metadata": {
        "id": "aw0Uaj2G1Xdt",
        "colab_type": "text"
      },
      "source": [
        "Mức viện trợ mà Bang New Mexico nhận được ở năm 2016 rất thấp, có thể coi là thấp nhất ở các loại viện trợ."
      ]
    },
    {
      "cell_type": "markdown",
      "metadata": {
        "id": "jxwb48H2bfi6",
        "colab_type": "text"
      },
      "source": [
        "### Doanh thu theo từng năm"
      ]
    },
    {
      "cell_type": "code",
      "metadata": {
        "id": "RsXwBQ3nX5Sf",
        "colab_type": "code",
        "colab": {}
      },
      "source": [
        "df_year_agg = df.groupby(['YEAR', 'AGG_DESC'], as_index=False).agg({\"AMOUNT_FORMATTED\": \"sum\"})\n",
        "df_year_agg.columns = ['YEAR', 'AGG_DESC', 'TOTAL_AMOUNT_FORMATTED']"
      ],
      "execution_count": null,
      "outputs": []
    },
    {
      "cell_type": "code",
      "metadata": {
        "id": "dHXWCUCbdrXA",
        "colab_type": "code",
        "colab": {
          "base_uri": "https://localhost:8080/",
          "height": 459
        },
        "outputId": "e2a003b8-bf1e-4b43-c720-dde15377971a"
      },
      "source": [
        "sns.relplot(x=\"YEAR\", y=\"AGG_DESC\", hue=\"AGG_DESC\", size=\"TOTAL_AMOUNT_FORMATTED\",\n",
        "            sizes=(40, 400), alpha=.5, palette=\"muted\",\n",
        "            height=6, data=df_year_agg)"
      ],
      "execution_count": null,
      "outputs": [
        {
          "output_type": "execute_result",
          "data": {
            "text/plain": [
              "<seaborn.axisgrid.FacetGrid at 0x7f795dc530b8>"
            ]
          },
          "metadata": {
            "tags": []
          },
          "execution_count": 135
        },
        {
          "output_type": "display_data",
          "data": {
            "image/png": "[encoded data removed]",
            "text/plain": [
              "<Figure size 614.5x432 with 1 Axes>"
            ]
          },
          "metadata": {
            "tags": [],
            "needs_background": "light"
          }
        }
      ]
    },
    {
      "cell_type": "markdown",
      "metadata": {
        "id": "eWjdGdXi5UFA",
        "colab_type": "text"
      },
      "source": [
        "Mức viện trợ của từng quỹ qua năm mỗi năm gần như không thay đổi."
      ]
    },
    {
      "cell_type": "markdown",
      "metadata": {
        "id": "wUCNjy6c5xrg",
        "colab_type": "text"
      },
      "source": [
        "### Tổng kết"
      ]
    },
    {
      "cell_type": "markdown",
      "metadata": {
        "id": "lrhK_6flX7_e",
        "colab_type": "text"
      },
      "source": [
        "- Thấy rằng California liên tục từ năm 2012 đến 2018 đều nhận được đầu tư vượt mức ở các viện trợ FS, FSDSON. \n",
        "- Về phía bang New Mexico là bang được ghi nhận có mức đầu thấp nhất từ quỹ FSDSV, cũng là mức thấp nhất mà một quỹ đầu tư vào năm 2016. Và là Bang có mức lợi nhuận thấp liên tục qua các năm 2012 - 2018 từ quỹ FSDSCN.\n"
      ]
    },
    {
      "cell_type": "markdown",
      "metadata": {
        "id": "FAgpfI0i63X0",
        "colab_type": "text"
      },
      "source": [
        "## 5.What action would you recommend the government/policy makers (or any related stakeholders of your choice) to take based on your findings above?"
      ]
    },
    {
      "cell_type": "markdown",
      "metadata": {
        "id": "N38oLdTn7GYN",
        "colab_type": "text"
      },
      "source": [
        "Chỉ với dữ liệu ở tập dataset có thể đưa những nhận định sau:\n",
        "\n",
        "\n",
        "*   Cần tìm hiểu nguyên nhân dẫn đến:\n",
        "\n",
        "  *   New Mexico: bang liên tục nhận được mức viện trợ thấp, và cũng là bang ghi nhận có mức viện trợ thấp nhất.\n",
        "  *   California: Điều gì khiến bang này nhận được sự thu hút từ các nguồn viện trợ.\n",
        "\n",
        "*   Nguồn vốn viện trợ không thay đổi qua từng năm.\n",
        "\n"
      ]
    }
  ]
}